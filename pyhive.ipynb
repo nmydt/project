{
 "cells": [
  {
   "cell_type": "code",
   "execution_count": 2,
   "metadata": {},
   "outputs": [
    {
     "name": "stdout",
     "output_type": "stream",
     "text": [
      "[(106, 27, 27, 0, 0), (29, 53, 77, 0, 0), (0, 0, 0, 144, 45), (0, 0, 10, 27, 17), (2, 181, 45, 0, 0)]\n"
     ]
    }
   ],
   "source": [
    "from pyhive import hive\n",
    "from TCLIService.ttypes import TOperationState\n",
    "\n",
    "\n",
    "def execute_sql(query):\n",
    "    \n",
    "    conn = hive.Connection(host='lylg102',\n",
    "                           port=10000,\n",
    "                           auth='CUSTOM',\n",
    "                           database='default',\n",
    "                           username='dxg',\n",
    "                           password='000000',\n",
    "                           configuration={'hive.exec.reducers.max': '123'}\n",
    "                      )\n",
    "    cursor = conn.cursor()\n",
    "    cursor.execute(query,  async_=True)\n",
    "    status = cursor.poll().operationState\n",
    "    while status in (TOperationState.INITIALIZED_STATE, TOperationState.RUNNING_STATE):\n",
    "        status = cursor.poll().operationState\n",
    "    res = cursor.fetchall()\n",
    "    cursor.close()\n",
    "    conn.close()\n",
    "    return res\n",
    "    \n",
    "if __name__ == '__main__':\n",
    "#     sql = '\\\n",
    "# select avg(views), \\\n",
    "# avg(score), \\\n",
    "# sum(views) from cartoon_info'\n",
    "    sql = \"SELECT Sum(Case When income =='5万以下' Then 1 Else 0 End),\\\n",
    "Sum(Case When  income =='5至10万' Then 1 Else 0 End),\\\n",
    "Sum(Case When income=='10至20万' Then 1 Else 0 End),\\\n",
    "Sum(Case When income=='20至30万' Then 1 Else 0 End),\\\n",
    "Sum(Case When income=='30万以上' Then 1 Else 0 End) FROM customers group by education\"\n",
    "    res = execute_sql(sql)\n",
    "    print(res)\n",
    "    "
   ]
  },
  {
   "cell_type": "code",
   "execution_count": 11,
   "metadata": {},
   "outputs": [],
   "source": [
    "from pyhive import hive\n",
    "conn = hive.Connection(host='lylg102',\n",
    "                           port=10000,\n",
    "                           auth='CUSTOM',\n",
    "                           database='default',\n",
    "                           username='dxg',\n",
    "                           password='000000'\n",
    "                      )"
   ]
  },
  {
   "cell_type": "code",
   "execution_count": null,
   "metadata": {},
   "outputs": [],
   "source": []
  }
 ],
 "metadata": {
  "kernelspec": {
   "display_name": "Python 3",
   "language": "python",
   "name": "python3"
  },
  "language_info": {
   "codemirror_mode": {
    "name": "ipython",
    "version": 3
   },
   "file_extension": ".py",
   "mimetype": "text/x-python",
   "name": "python",
   "nbconvert_exporter": "python",
   "pygments_lexer": "ipython3",
   "version": "3.7.0"
  }
 },
 "nbformat": 4,
 "nbformat_minor": 2
}
