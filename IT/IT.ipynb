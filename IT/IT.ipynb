{
 "cells": [
  {
   "cell_type": "code",
   "execution_count": 1,
   "metadata": {},
   "outputs": [],
   "source": [
    "from pyhive import hive\n",
    "from TCLIService.ttypes import TOperationState\n",
    "\n",
    "\n",
    "def execute_sql(query):\n",
    "    \n",
    "    conn = hive.Connection(host='lylg102',\n",
    "                           port=10000,\n",
    "                           auth='CUSTOM',\n",
    "                           database='default',\n",
    "                           username='dxg',\n",
    "                           password='000000',\n",
    "                           configuration={'hive.exec.reducers.max': '123'}\n",
    "                      )\n",
    "    cursor = conn.cursor()\n",
    "    cursor.execute(query,  async_=True)\n",
    "    status = cursor.poll().operationState\n",
    "    while status in (TOperationState.INITIALIZED_STATE, TOperationState.RUNNING_STATE):\n",
    "        status = cursor.poll().operationState\n",
    "    res = cursor.fetchall()\n",
    "    cursor.close()\n",
    "    conn.close()\n",
    "    return res"
   ]
  },
  {
   "cell_type": "markdown",
   "metadata": {},
   "source": [
    "# 玫瑰图 pyecharts"
   ]
  },
  {
   "cell_type": "code",
   "execution_count": 2,
   "metadata": {},
   "outputs": [
    {
     "data": {
      "text/plain": [
       "'E:\\\\jupyter_test\\\\数据可视化实训\\\\IT\\\\html\\\\玫瑰图.html'"
      ]
     },
     "execution_count": 2,
     "metadata": {},
     "output_type": "execute_result"
    }
   ],
   "source": [
    "import pandas as pd\n",
    "from pyecharts import options as opts\n",
    "from pyecharts.charts import Pie\n",
    "\n",
    "from pyecharts.globals import CurrentConfig\n",
    "from pyecharts.charts import Radar\n",
    "    #图表样式库\n",
    "from pyecharts.globals import ThemeType, SymbolType\n",
    "sql_num = \"SELECT job ,`salary` FROM jobs_info group by job,salary \"\n",
    "v3=[]\n",
    "v4=[]\n",
    "sh = execute_sql(sql_num)\n",
    "for s in sh:\n",
    "    v3.append(s[0])\n",
    "    v4.append(s[1])\n",
    "list002=[]\n",
    "for i in v4:\n",
    "    for j in i.split('-'):\n",
    "        list002.append(j)\n",
    "list003=[]\n",
    "for i in list002:\n",
    "    if len(i)==3:\n",
    "        list003.append(i[0:2])   \n",
    "    else:\n",
    "        list003.append(i[0])\n",
    "        \n",
    "        \n",
    "\n",
    "list004=[]\n",
    "for i in list003:\n",
    "    list004.append(int(i))\n",
    "    \n",
    "list005=[]\n",
    "for i in list004:\n",
    "    list005.append(i * 1000)\n",
    "list006=[]\n",
    "list007=[]\n",
    "for index, value in enumerate(list005):\n",
    "    if index % 2 ==0:\n",
    "        list006.append(list005[index])\n",
    "    else:\n",
    "        list007.append(list005[index])\n",
    "list008=[] \n",
    "list008=list006[0:10]\n",
    "list009=[]\n",
    "list009=v3[0:10]\n",
    "\n",
    "data = {'工作名称':list009,\n",
    "       '最低薪水':list008}\n",
    "df = pd.DataFrame(data)\n",
    "# print(df)\n",
    "color_series = ['#FAE927','#E9E416','#C9DA36','#9ECB3C','#6DBC49',\n",
    "                '#37B44E','#3DBA78','#14ADCF','#209AC9','#1E91CA',\n",
    "                '#2C6BA0','#2B55A1','#2D3D8E','#44388E','#6A368B'\n",
    "                '#7D3990','#A63F98','#C31C88','#D52178','#D5225B',\n",
    "                '#D02C2A','#D44C2D','#F57A34','#FA8F2F','#D99D21',\n",
    "                '#CF7B25','#CF7B25','#CF7B25']\n",
    "\n",
    "# 提取数据\n",
    "v = df['工作名称'].values.tolist()\n",
    "d = df['最低薪水'].values.tolist()\n",
    "# 绘制饼图\n",
    "pie1 = Pie(init_opts=opts.InitOpts(width='1250px', height='750px'))\n",
    "# 设置颜色\n",
    "pie1.set_colors(color_series)\n",
    "\n",
    "pie1.add(\"\", [list(z) for z in zip(v, d)],\n",
    "        radius=[\"30%\", \"100%\"],\n",
    "        center=[\"50%\", \"50%\"],\n",
    "        rosetype=\"area\"\n",
    "        )\n",
    "# 设置全局配置项\n",
    "pie1.set_global_opts(title_opts=opts.TitleOpts(title='不同工作的最低工资',subtitle='分析',\n",
    "                                               title_textstyle_opts=opts.TextStyleOpts(font_size=25,color= '#0085c3'),\n",
    "                                               subtitle_textstyle_opts= opts.TextStyleOpts(font_size=50,color= '#003399'),\n",
    "                                               pos_right= 'center',pos_left= 'center',pos_top='42%',pos_bottom='center'\n",
    "                                              ),\n",
    "                     legend_opts=opts.LegendOpts(is_show=False),\n",
    "                     toolbox_opts=opts.ToolboxOpts())\n",
    "# 设置系列配置项\n",
    "pie1.set_series_opts(label_opts=opts.LabelOpts(is_show=True, position=\"inside\", font_size=12,\n",
    "                                               formatter=\"{b}有:{c}元\", font_style=\"italic\",\n",
    "                                               font_weight=\"bold\", font_family=\"SimHei\"\n",
    "                                               ),\n",
    "                     )\n",
    "# 渲染在html页面上\n",
    "pie1.render(\"html/玫瑰图.html\")"
   ]
  },
  {
   "cell_type": "markdown",
   "metadata": {},
   "source": [
    "#  树形图 matplotlib"
   ]
  },
  {
   "cell_type": "code",
   "execution_count": 6,
   "metadata": {},
   "outputs": [
    {
     "data": {
      "image/png": "[encoded data removed]",
      "text/plain": [
       "<Figure size 720x432 with 1 Axes>"
      ]
     },
     "metadata": {
      "needs_background": "light"
     },
     "output_type": "display_data"
    }
   ],
   "source": [
    "import pandas as pd\n",
    "import  matplotlib.pyplot as plt\n",
    "import numpy as np\n",
    "import matplotlib as mpl\n",
    "from  matplotlib.font_manager import FontProperties\n",
    "import squarify\n",
    "mpl.rcParams['font.sans-serif'] = ['SimHei']\n",
    "\n",
    "plt.rcParams[\"font.size\"]=10#设置字体大小\n",
    "\n",
    "list100=[]\n",
    "list101=[]\n",
    "list102=[]\n",
    "list102=list007[0:10]\n",
    "list101=list009[5:]\n",
    "list100=list102[5:]\n",
    "df1=pd.Series(list100)\n",
    "df2=pd.Series(list101)\n",
    "plt.figure(figsize=(10,6))\n",
    "colors=['steelblue','red','indianred','green','yellow','orange','pink','red','green','yellow']\n",
    "plot=squarify.plot(\n",
    "    sizes=df1,\n",
    "    label=df2,\n",
    "    color=colors,\n",
    "    alpha=0.6,\n",
    "    value=df1,\n",
    "    edgecolor='white',\n",
    "    linewidth=8)\n",
    "plt.rc('font',size=15)\n",
    "plot.set_title('不同工作的最高工资',fontdict={'fontsize':15})\n",
    "plt.axis('off')\n",
    "plt.tick_params(top='off',right='off')\n",
    "plt.savefig('html/树形图.png')\n",
    "plt.show()"
   ]
  },
  {
   "cell_type": "markdown",
   "metadata": {},
   "source": [
    "# 火柴杆图 matplotlib"
   ]
  },
  {
   "cell_type": "code",
   "execution_count": 6,
   "metadata": {},
   "outputs": [
    {
     "data": {
      "image/png": "[encoded data removed]",
      "text/plain": [
       "<Figure size 720x504 with 1 Axes>"
      ]
     },
     "metadata": {
      "needs_background": "light"
     },
     "output_type": "display_data"
    }
   ],
   "source": [
    "import pandas as pd\n",
    "import  matplotlib.pyplot as plt\n",
    "import numpy as np\n",
    "import matplotlib as mpl\n",
    "from  matplotlib.font_manager import FontProperties\n",
    "import squarify\n",
    "mpl.rcParams['font.sans-serif'] = ['SimHei']\n",
    "plt.rcParams[\"font.size\"]=10#设置字体大小\n",
    "haha='SELECT keyword  `关键词` , COUNT(*) `次数` FROM jobs_info GROUP BY keyword'\n",
    "sh1 = execute_sql(haha)\n",
    "\n",
    "list103=[]\n",
    "list104=[]\n",
    "for i in sh1:\n",
    "    list103.append(i[0])\n",
    "    list104.append(i[1])\n",
    "x =list103\n",
    "\n",
    "y = list104\n",
    "\n",
    "bottom = -0.1\n",
    "\n",
    "hold = False\n",
    "plt.figure(figsize=(10,7))\n",
    "label = '关键词出现次数'\n",
    "markerline, stemlines, baseline = plt.stem(x, y, bottom=bottom,\n",
    "                                           label=label)\n",
    "\n",
    "plt.setp(markerline, color='red', marker='o')\n",
    "plt.setp(stemlines, color='blue', linestyle=':')\n",
    "plt.setp(baseline, color='grey', linewidth=2, linestyle='-')\n",
    "plt.xlabel('关键词')\n",
    "plt.ylabel('次数')\n",
    "plt.title('分析关键词出现的次数')\n",
    "plt.ylabel('')\n",
    "plt.legend()\n",
    "plt.savefig('html/火柴杆图.png')\n",
    "plt.show()"
   ]
  },
  {
   "cell_type": "markdown",
   "metadata": {},
   "source": [
    "# 条形图 matplotlib"
   ]
  },
  {
   "cell_type": "code",
   "execution_count": 9,
   "metadata": {},
   "outputs": [
    {
     "data": {
      "image/png": "[encoded data removed]",
      "text/plain": [
       "<Figure size 432x288 with 1 Axes>"
      ]
     },
     "metadata": {
      "needs_background": "light"
     },
     "output_type": "display_data"
    }
   ],
   "source": [
    "import matplotlib.pyplot as plt\n",
    "import matplotlib\n",
    "import numpy as np\n",
    "hh=\"select job ,salary from jobs_info where place ='上海' and pubtime = '2022-05-07' \"\n",
    "\n",
    "sh2 = execute_sql(hh)\n",
    "list105=[]\n",
    "list106=[]\n",
    "for i in sh2:\n",
    "    list105.append(i[0])\n",
    "    list106.append(i[1])\n",
    "list107=[]\n",
    "list108=[]\n",
    "list107=list105[-5:]\n",
    "list108=list106[-5:]\n",
    "list202=[]\n",
    "for i in list108:\n",
    "    for j in i.split('-'):\n",
    "        list202.append(j)\n",
    "list203=[]\n",
    "for i in list202:\n",
    "    if len(i)==3:\n",
    "        list203.append(i[0:2])   \n",
    "    else:\n",
    "        list203.append(i[0])\n",
    "        \n",
    "        \n",
    "\n",
    "list204=[]\n",
    "for i in list203:\n",
    "    list204.append(int(i))\n",
    "    \n",
    "list205=[]\n",
    "for i in list204:\n",
    "    list205.append(i * 1000)\n",
    "list206=[]\n",
    "list207=[]\n",
    "for index, value in enumerate(list205):\n",
    "    if index % 2 ==0:\n",
    "        list206.append(list205[index])\n",
    "    else:\n",
    "        list207.append(list205[index])\n",
    "bar_width = 0.3# 条形宽度\n",
    "index_male = np.arange(len(list107)) \n",
    "index_female = index_male + bar_width \n",
    "\n",
    "# 使用两次 bar 函数画出两组条形图\n",
    "plt.bar(index_male, height=list206, width=bar_width, color='b', label='最低工资')\n",
    "plt.bar(index_female, height=list207, width=bar_width, color='g', label='最高工资')\n",
    "\n",
    "plt.legend()  # 显示图例\n",
    "plt.xticks(index_male + bar_width/2, list107,fontsize=10)  #\n",
    "plt.title('时间：2022-05-07 ，工作地点 ：上海 不同工作的不同工资')  # 图形标题\n",
    "plt.savefig('html/条形图.png')\n",
    "plt.show()\n"
   ]
  },
  {
   "cell_type": "markdown",
   "metadata": {},
   "source": [
    "# 漏斗图 pyecharts"
   ]
  },
  {
   "cell_type": "code",
   "execution_count": 10,
   "metadata": {},
   "outputs": [
    {
     "data": {
      "text/plain": [
       "'E:\\\\jupyter_test\\\\数据可视化实训\\\\IT\\\\html\\\\漏斗图.html'"
      ]
     },
     "execution_count": 10,
     "metadata": {},
     "output_type": "execute_result"
    }
   ],
   "source": [
    "from pyecharts.globals import CurrentConfig, NotebookType\n",
    "CurrentConfig.NOTEBOOK_TYPE = NotebookType.JUPYTER_NOTEBOOK\n",
    "\n",
    "from pyecharts import options as opts\n",
    "from pyecharts.charts import Funnel, Page\n",
    "hh=\"select job ,salary from jobs_info where place ='北京' and pubtime = '2022-05-08' \"\n",
    "sh3 = execute_sql(hh)\n",
    "\n",
    "list111=[]\n",
    "list112=[]\n",
    "for i in sh3:\n",
    "    list111.append(i[0])\n",
    "    list112.append(i[1])\n",
    "list113=[]\n",
    "list114=[]\n",
    "list113=list111[-5:]\n",
    "list114=list112[-5:]\n",
    "\n",
    "list302=[]\n",
    "for i in list114:\n",
    "    for j in i.split('-'):\n",
    "        list302.append(j)\n",
    "list303=[]\n",
    "for i in list302:\n",
    "    if len(i)==3:\n",
    "        list303.append(i[0:2])   \n",
    "    else:\n",
    "        list303.append(i[0])\n",
    "        \n",
    "        \n",
    "\n",
    "list304=[]\n",
    "for i in list303:\n",
    "    list304.append(int(i))\n",
    "    \n",
    "list305=[]\n",
    "for i in list304:\n",
    "    list305.append(i * 1000)\n",
    "list306=[]\n",
    "list307=[]\n",
    "for index, value in enumerate(list305):\n",
    "    if index % 2 ==0:\n",
    "        list306.append(list305[index])\n",
    "    else:\n",
    "        list307.append(list305[index])\n",
    "def funnel_label() -> Funnel:\n",
    "    c = (\n",
    "        Funnel()\n",
    "        .add(\"工资分析\",\n",
    "            [list(z) for z in zip(list113, list306)],\n",
    "            sort_=\"descending\",               #默认是sort_=\"descending\"即从大到小，也可以设置为ascending即反向漏斗\n",
    "            label_opts=opts.LabelOpts(position=\"inside\"),\n",
    "        )\n",
    "        .set_global_opts(title_opts=opts.TitleOpts(title=\"\", subtitle=\"分析\"),\n",
    "                         toolbox_opts=opts.ToolboxOpts(),\n",
    "                         legend_opts=opts.LegendOpts(is_show=True)\n",
    "                        )\n",
    "    )\n",
    "    return c\n",
    "\n",
    "#第一次渲染时候调用load_javasrcript文件\n",
    "funnel_label().load_javascript()\n",
    "#展示数据可视化图表\n",
    "funnel_label().render(\"html/漏斗图.html\")"
   ]
  },
  {
   "cell_type": "markdown",
   "metadata": {},
   "source": [
    "# 环图 pyecharts"
   ]
  },
  {
   "cell_type": "code",
   "execution_count": 11,
   "metadata": {},
   "outputs": [
    {
     "data": {
      "text/html": [
       "\n",
       "<script>\n",
       "    require.config({\n",
       "        paths: {\n",
       "            'echarts':'https://assets.pyecharts.org/assets/echarts.min'\n",
       "        }\n",
       "    });\n",
       "</script>\n",
       "\n",
       "        <div id=\"c378f73d8ea5447c8f44de494bbcc272\" style=\"width:900px; height:500px;\"></div>\n",
       "\n",
       "<script>\n",
       "        require(['echarts'], function(echarts) {\n",
       "                var chart_c378f73d8ea5447c8f44de494bbcc272 = echarts.init(\n",
       "                    document.getElementById('c378f73d8ea5447c8f44de494bbcc272'), 'white', {renderer: 'canvas'});\n",
       "                var option_c378f73d8ea5447c8f44de494bbcc272 = {\n",
       "    \"animation\": true,\n",
       "    \"animationThreshold\": 2000,\n",
       "    \"animationDuration\": 1000,\n",
       "    \"animationEasing\": \"cubicOut\",\n",
       "    \"animationDelay\": 0,\n",
       "    \"animationDurationUpdate\": 300,\n",
       "    \"animationEasingUpdate\": \"cubicOut\",\n",
       "    \"animationDelayUpdate\": 0,\n",
       "    \"color\": [\n",
       "        \"#c23531\",\n",
       "        \"#2f4554\",\n",
       "        \"#61a0a8\",\n",
       "        \"#d48265\",\n",
       "        \"#749f83\",\n",
       "        \"#ca8622\",\n",
       "        \"#bda29a\",\n",
       "        \"#6e7074\",\n",
       "        \"#546570\",\n",
       "        \"#c4ccd3\",\n",
       "        \"#f05b72\",\n",
       "        \"#ef5b9c\",\n",
       "        \"#f47920\",\n",
       "        \"#905a3d\",\n",
       "        \"#fab27b\",\n",
       "        \"#2a5caa\",\n",
       "        \"#444693\",\n",
       "        \"#726930\",\n",
       "        \"#b2d235\",\n",
       "        \"#6d8346\",\n",
       "        \"#ac6767\",\n",
       "        \"#1d953f\",\n",
       "        \"#6950a1\",\n",
       "        \"#918597\"\n",
       "    ],\n",
       "    \"series\": [\n",
       "        {\n",
       "            \"type\": \"pie\",\n",
       "            \"clockwise\": true,\n",
       "            \"data\": [\n",
       "                {\n",
       "                    \"name\": \"h5\\u6e38\\u620f\\u5f00\\u53d1\\u5de5\\u7a0b\\u5e08\",\n",
       "                    \"value\": 40000\n",
       "                },\n",
       "                {\n",
       "                    \"name\": \"web\\u524d\\u7aef\\u5f00\\u53d1\\uff08VUE+\\u5c0f\\u7a0b\\u5e8f\\uff09\",\n",
       "                    \"value\": 28000\n",
       "                },\n",
       "                {\n",
       "                    \"name\": \"\\u5c0f\\u7a0b\\u5e8f\\u524d\\u7aef\\u5f00\\u53d1\\u5de5\\u7a0b\\u5e08\",\n",
       "                    \"value\": 40000\n",
       "                },\n",
       "                {\n",
       "                    \"name\": \"\\u5c0f\\u7a0b\\u5e8f\\u5f00\\u53d1\\u5de5\\u7a0b\\u5e08\",\n",
       "                    \"value\": 23000\n",
       "                },\n",
       "                {\n",
       "                    \"name\": \"\\u524d\\u7aef\\u5c0f\\u7a0b\\u5e8f\\u5f00\\u53d1\\u5de5\\u7a0b\\u5e08\",\n",
       "                    \"value\": 14000\n",
       "                }\n",
       "            ],\n",
       "            \"radius\": [\n",
       "                80,\n",
       "                150\n",
       "            ],\n",
       "            \"center\": [\n",
       "                \"50%\",\n",
       "                \"50%\"\n",
       "            ],\n",
       "            \"label\": {\n",
       "                \"show\": true,\n",
       "                \"position\": \"top\",\n",
       "                \"margin\": 8\n",
       "            }\n",
       "        }\n",
       "    ],\n",
       "    \"legend\": [\n",
       "        {\n",
       "            \"data\": [\n",
       "                \"h5\\u6e38\\u620f\\u5f00\\u53d1\\u5de5\\u7a0b\\u5e08\",\n",
       "                \"web\\u524d\\u7aef\\u5f00\\u53d1\\uff08VUE+\\u5c0f\\u7a0b\\u5e8f\\uff09\",\n",
       "                \"\\u5c0f\\u7a0b\\u5e8f\\u524d\\u7aef\\u5f00\\u53d1\\u5de5\\u7a0b\\u5e08\",\n",
       "                \"\\u5c0f\\u7a0b\\u5e8f\\u5f00\\u53d1\\u5de5\\u7a0b\\u5e08\",\n",
       "                \"\\u524d\\u7aef\\u5c0f\\u7a0b\\u5e8f\\u5f00\\u53d1\\u5de5\\u7a0b\\u5e08\"\n",
       "            ],\n",
       "            \"selected\": {},\n",
       "            \"show\": true,\n",
       "            \"left\": \"left\",\n",
       "            \"orient\": \"vertical\",\n",
       "            \"padding\": 5,\n",
       "            \"itemGap\": 10,\n",
       "            \"itemWidth\": 25,\n",
       "            \"itemHeight\": 14\n",
       "        }\n",
       "    ],\n",
       "    \"tooltip\": {\n",
       "        \"show\": true,\n",
       "        \"trigger\": \"item\",\n",
       "        \"triggerOn\": \"mousemove|click\",\n",
       "        \"axisPointer\": {\n",
       "            \"type\": \"line\"\n",
       "        },\n",
       "        \"showContent\": true,\n",
       "        \"alwaysShowContent\": false,\n",
       "        \"showDelay\": 0,\n",
       "        \"hideDelay\": 100,\n",
       "        \"textStyle\": {\n",
       "            \"fontSize\": 14\n",
       "        },\n",
       "        \"borderWidth\": 0,\n",
       "        \"padding\": 5\n",
       "    },\n",
       "    \"title\": [\n",
       "        {\n",
       "            \"text\": \"\\u65f6\\u95f4\\uff1a2022-05-07 \\uff0c\\u5de5\\u4f5c\\u5730\\u70b9 \\uff1a\\u5317\\u4eac \\u4e0d\\u540c\\u5de5\\u4f5c\\u7684\\u6700\\u9ad8\\u5de5\\u8d44\",\n",
       "            \"subtext\": \"\\u5206\\u6790\",\n",
       "            \"left\": \"center\",\n",
       "            \"bottom\": \"center\",\n",
       "            \"padding\": 5,\n",
       "            \"itemGap\": 10\n",
       "        }\n",
       "    ]\n",
       "};\n",
       "                chart_c378f73d8ea5447c8f44de494bbcc272.setOption(option_c378f73d8ea5447c8f44de494bbcc272);\n",
       "        });\n",
       "    </script>\n"
      ],
      "text/plain": [
       "<pyecharts.render.display.HTML at 0x1d5841545f8>"
      ]
     },
     "execution_count": 11,
     "metadata": {},
     "output_type": "execute_result"
    }
   ],
   "source": [
    "import pandas as pd\n",
    "from pyecharts.charts import Pie\n",
    "from pyecharts import options as opts\n",
    " \n",
    "\n",
    "\n",
    "\n",
    "pie = (\n",
    "       Pie()\n",
    "       .add('', [list(z) for z in zip(list113, list307)],radius=[80,150])\n",
    "       .set_global_opts(title_opts=opts.TitleOpts(title=\"时间：2022-05-07 ，工作地点 ：北京 不同工作的最高工资\",\n",
    "                                                  subtitle=\"分析\",\n",
    "                                                  pos_left=\"center\",\n",
    "                                                  pos_bottom=\"center\"),\n",
    "                        legend_opts=opts.LegendOpts(pos_left=\"left\",\n",
    "                                                    orient=\"vertical\"),\n",
    "       )\n",
    "       )\n",
    "pie.render(\"html/环图.html\")\n",
    "pie.render_notebook()         # pyecharts.Base.render 渲染图表到 HTML 文件 默认render.html"
   ]
  },
  {
   "cell_type": "markdown",
   "metadata": {},
   "source": [
    "# 词云图 pyecharts"
   ]
  },
  {
   "cell_type": "code",
   "execution_count": 3,
   "metadata": {},
   "outputs": [
    {
     "name": "stderr",
     "output_type": "stream",
     "text": [
      "Building prefix dict from the default dictionary ...\n",
      "Loading model from cache C:\\Users\\DXG\\AppData\\Local\\Temp\\jieba.cache\n",
      "Loading model cost 1.424 seconds.\n",
      "Prefix dict has been built successfully.\n"
     ]
    }
   ],
   "source": [
    "import pandas as pd\n",
    "import jieba\n",
    "from collections import Counter\n",
    "import pyecharts.options as opts\n",
    "from pyecharts.charts import WordCloud\n",
    "from pyecharts.charts import Radar\n",
    "sql_a=\"select tags  ,`welfare` , `requirement`  from jobs_info \"\n",
    "sh4 = execute_sql(sql_a)\n",
    "\n",
    "text = str(sh4)\n",
    "def split_word(text):\n",
    "    word_list = list(jieba.cut(text))\n",
    "    # 去掉一些无意义的词和符号，我这里自己整理了停用词库\n",
    "    with open('res/停用词库.txt',encoding='utf-8') as f:\n",
    "        meaningless_word = f.read()\n",
    "        # print(meaningless_word)\n",
    "    result = []\n",
    "    # 筛选词语\n",
    "    for i in word_list:\n",
    "        if i not in meaningless_word:\n",
    "            result.append(i.replace(' ', ''))\n",
    "    return result\n",
    "def word_counter(words):\n",
    "    # 词频统计,使用Count计数方法\n",
    "    words_counter = Counter(words)\n",
    "    # 将Counter类型转换为列表\n",
    "    words_list = words_counter.most_common(2000)\n",
    "    return words_list\n",
    "def word_cloud(data):\n",
    "    (\n",
    "        WordCloud()\n",
    "            .add(series_name=\"热点分析\",\n",
    "                 # 添加数据\n",
    "                 data_pair=data,\n",
    "                 # 字间隙\n",
    "                 word_gap = 5,\n",
    "                 # 调整字大小范围\n",
    "                 word_size_range=[15, 80],\n",
    "                 shape=\"cursive\",\n",
    "                 mask_image='res/haha.jpg')\n",
    "            .set_global_opts(\n",
    "            title_opts=opts.TitleOpts(\n",
    "                title=\"热点分析\", title_textstyle_opts=opts.TextStyleOpts(font_size=23)\n",
    "            ),\n",
    "            tooltip_opts=opts.TooltipOpts(is_show=True),\n",
    "        )\n",
    "        # 输出为html格式\n",
    "            .render(\"html/词云图.html\")\n",
    "    )\n",
    "def main():\n",
    "    \n",
    "    words = split_word(text)\n",
    "    data = word_counter(words)\n",
    "    word_cloud(data)\n",
    "\n",
    "if __name__ == '__main__':\n",
    "\n",
    "    main()"
   ]
  },
  {
   "cell_type": "markdown",
   "metadata": {},
   "source": [
    "# 子图 matplotlib"
   ]
  },
  {
   "cell_type": "code",
   "execution_count": 4,
   "metadata": {},
   "outputs": [
    {
     "data": {
      "text/plain": [
       "<Figure size 2000x800 with 3 Axes>"
      ]
     },
     "metadata": {},
     "output_type": "display_data"
    }
   ],
   "source": [
    "import matplotlib.pyplot as plt\n",
    "import numpy as np\n",
    "import matplotlib\n",
    "import squarify\n",
    "from matplotlib.pyplot import MultipleLocator\n",
    "matplotlib.rcParams['font.sans-serif']=['SimHei']   # 用黑体显示中文\n",
    "matplotlib.rcParams['axes.unicode_minus']=False\n",
    "\n",
    "\n",
    "\n",
    "plt.figure(figsize=(20,8))      #设置图形大小\n",
    "plt.xticks(rotation=90,ha='right')\n",
    "plt.subplot(231)\n",
    "data1 = list009\n",
    "data2 = list008\n",
    "list120=[]\n",
    "list120=list007[0:10]\n",
    "data3=list120\n",
    "\n",
    "list30=list003.copy()\n",
    "list40=list004.copy()\n",
    "list50=[]\n",
    "list50=list30[0:10]\n",
    "list60=[]\n",
    "list60=list40[0:10]\n",
    "data4=pd.Series(list50)\n",
    "data5=pd.Series(list60)\n",
    "\n",
    "bar_width = 0.3\n",
    "# 绘图\n",
    "\n",
    "plt.bar(data1, data2, label = '不同职业的最低工资', color = 'steelblue', alpha = 0.8)\n",
    "# plt.bar(data1, data5, label = '动漫总计评分人数', color = 'indianred', alpha = 0.8)\n",
    "\n",
    "\n",
    "\n",
    "plt.title('分析')\n",
    "plt.xticks(rotation=90,ha='right')\n",
    "plt.subplot(232)\n",
    "\n",
    "\n",
    "plt.plot(data1, data3,c='red', alpha=0.5)\n",
    "# plt.legend(fontsize=8,loc='upper right')\n",
    "plt.xlabel('名称')\n",
    "plt.ylabel('工资')\n",
    "plt.title('分析')\n",
    "\n",
    "\n",
    "\n",
    "plt.xticks(rotation=90,ha='right')\n",
    "plt.subplot(233)\n",
    "\n",
    "plot=squarify.plot(\n",
    "    sizes=data5,\n",
    "    label=data4,\n",
    "    alpha=0.6,\n",
    "    value=data5,\n",
    "    edgecolor='white',\n",
    "    linewidth=8\n",
    "       )\n",
    "\n",
    "plt.title('分析')\n",
    "\n",
    "plt.suptitle('分析', fontsize=12)\n",
    "\n",
    "plt.subplots_adjust(left=None, bottom=None, right=None, top=None,wspace=0.5, hspace=0.5)\n",
    "plt.savefig('html/子图.png')\n",
    "plt.show()"
   ]
  },
  {
   "cell_type": "markdown",
   "metadata": {},
   "source": [
    "# 散点图 pyecharts"
   ]
  },
  {
   "cell_type": "code",
   "execution_count": 7,
   "metadata": {},
   "outputs": [
    {
     "data": {
      "text/plain": [
       "'E:\\\\jupyter_test\\\\数据可视化实训\\\\IT\\\\html\\\\散点图.html'"
      ]
     },
     "execution_count": 7,
     "metadata": {},
     "output_type": "execute_result"
    }
   ],
   "source": [
    "from pyecharts.globals import CurrentConfig, NotebookType\n",
    "CurrentConfig.NOTEBOOK_TYPE = NotebookType.JUPYTER_NOTEBOOK\n",
    "\n",
    "from pyecharts import options as opts\n",
    "from pyecharts.charts import EffectScatter, Page\n",
    "from pyecharts.globals import SymbolType\n",
    "\n",
    "\n",
    "def effectscatter_splitline() -> EffectScatter:\n",
    "    c = (\n",
    "        EffectScatter()\n",
    "        .add_xaxis(list103)\n",
    "        .add_yaxis(\"\",list104, symbol=SymbolType.ARROW)\n",
    "        .set_global_opts(\n",
    "            title_opts=opts.TitleOpts(title=\"关键词出现的次数\", subtitle=\"分析\"),\n",
    "            xaxis_opts=opts.AxisOpts(splitline_opts=opts.SplitLineOpts(is_show=True)),\n",
    "            yaxis_opts=opts.AxisOpts(splitline_opts=opts.SplitLineOpts(is_show=True)),\n",
    "            toolbox_opts=opts.ToolboxOpts(),\n",
    "            legend_opts=opts.LegendOpts(is_show=True)\n",
    "\n",
    "        )\n",
    "    )\n",
    "\n",
    "    return c\n",
    "\n",
    "effectscatter_splitline().render(\"html/散点图.html\")\n"
   ]
  },
  {
   "cell_type": "markdown",
   "metadata": {},
   "source": [
    "# 象形图  pyecharts"
   ]
  },
  {
   "cell_type": "code",
   "execution_count": 8,
   "metadata": {},
   "outputs": [
    {
     "data": {
      "text/plain": [
       "'E:\\\\jupyter_test\\\\数据可视化实训\\\\IT\\\\html\\\\象形图.html'"
      ]
     },
     "execution_count": 8,
     "metadata": {},
     "output_type": "execute_result"
    }
   ],
   "source": [
    "from pyecharts.charts import *\n",
    "from pyecharts.components import Table\n",
    "from pyecharts import options as opts\n",
    "from pyecharts.commons.utils import JsCode\n",
    "import random\n",
    "import datetime\n",
    "\n",
    "pictorialBar = (PictorialBar()\n",
    "                .add_xaxis(list009)\n",
    "                .add_yaxis('',list008)\n",
    "                )\n",
    "\n",
    "pictorialBar.render(\"html/象形图.html\")"
   ]
  },
  {
   "cell_type": "markdown",
   "metadata": {},
   "source": [
    "# 将分析图组成HTML页面"
   ]
  },
  {
   "cell_type": "code",
   "execution_count": 11,
   "metadata": {},
   "outputs": [],
   "source": [
    "head = '''\n",
    "<!DOCTYPE html>\n",
    "<html>\n",
    "<head>\n",
    "    <meta charset=\"UTF-8\">\n",
    "    <title>IT Job visualization</title>\n",
    "    <script type=\"text/javascript\" src=\"https://assets.pyecharts.org/assets/echarts.min.js\"></script>\n",
    "    <script type=\"text/javascript\" src=\"https://assets.pyecharts.org/assets/echarts-wordcloud.min.js\"></script>\n",
    "    <script>function refresh(){window.location.reload();}function refresh2(){if(sessionStorage.getItem(\"isReload\")){ console.log(\"页面被刷新\");}else{ console.log(\"首次被加载\");sessionStorage.setItem(\"isReload\", true);setTimeout('refresh()', 100);}}setTimeout('refresh2()', 10);</script>\n",
    "</head>\n",
    "<body>\n",
    "'''\n",
    "tail = '''\n",
    "</body>\n",
    "</html>\n",
    "'''"
   ]
  },
  {
   "cell_type": "code",
   "execution_count": 12,
   "metadata": {},
   "outputs": [
    {
     "name": "stdout",
     "output_type": "stream",
     "text": [
      "玫瑰图\n",
      "词云图\n",
      "散点图\n",
      "漏斗图\n",
      "环图\n",
      "象形图\n",
      "条形图\n",
      "树形图\n",
      "火柴杆图\n",
      "子图\n"
     ]
    }
   ],
   "source": [
    "import re\n",
    "\n",
    "PICS = [\"玫瑰图\",\"词云图\",\"散点图\",\"漏斗图\",\"环图\",\"象形图\"]\n",
    "PICS2 = ['条形图','树形图','火柴杆图','子图']\n",
    "with open(\"html/index.html\",'w') as f:\n",
    "    f.write(\"\")\n",
    "    f.close()\n",
    "f = open(\"html/index.html\",'a',encoding='utf-8')\n",
    "f.write(head)\n",
    "for pic_ in PICS:    \n",
    "    f1 = open(\"html/\"+pic_+\".html\",'r',encoding='utf-8')\n",
    "    res = re.findall('<body>(.*?)</body>',f1.read(),re.S)[0]\n",
    "    f.write(\"<h2>\"+pic_+\"</h2>\"+res)\n",
    "    f1.close()\n",
    "    print(pic_)\n",
    "for pic_ in PICS2:\n",
    "    f.write(\"<h2>\"+pic_+\"</h2>\"+f'<img src=\"{pic_}.png\">')\n",
    "    f1.close()\n",
    "    print(pic_)\n",
    "f.write(tail)\n",
    "f.close()"
   ]
  },
  {
   "cell_type": "code",
   "execution_count": null,
   "metadata": {},
   "outputs": [],
   "source": []
  }
 ],
 "metadata": {
  "kernelspec": {
   "display_name": "Python 3",
   "language": "python",
   "name": "python3"
  },
  "language_info": {
   "codemirror_mode": {
    "name": "ipython",
    "version": 3
   },
   "file_extension": ".py",
   "mimetype": "text/x-python",
   "name": "python",
   "nbconvert_exporter": "python",
   "pygments_lexer": "ipython3",
   "version": "3.7.0"
  }
 },
 "nbformat": 4,
 "nbformat_minor": 5
}
